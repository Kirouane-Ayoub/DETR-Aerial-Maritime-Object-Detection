{
  "nbformat": 4,
  "nbformat_minor": 0,
  "metadata": {
    "colab": {
      "provenance": [],
      "gpuType": "T4"
    },
    "kernelspec": {
      "name": "python3",
      "display_name": "Python 3"
    },
    "language_info": {
      "name": "python"
    },
    "accelerator": "GPU"
  },
  "cells": [
    {
      "cell_type": "code",
      "execution_count": 1,
      "metadata": {
        "id": "g4dk2YMI0YBm",
        "colab": {
          "base_uri": "https://localhost:8080/"
        },
        "outputId": "564d2b6e-723b-4aae-bd0c-562d4e15ca7a"
      },
      "outputs": [
        {
          "output_type": "stream",
          "name": "stdout",
          "text": [
            "Installing collected packages: tokenizers, safetensors, pydub, ffmpy, websockets, semantic-version, python-multipart, orjson, h11, aiofiles, uvicorn, starlette, huggingface-hub, httpcore, transformers, httpx, fastapi, gradio-client, gradio, timm\n",
            "Successfully installed aiofiles-23.2.1 fastapi-0.103.1 ffmpy-0.3.1 gradio-3.44.4 gradio-client-0.5.1 h11-0.14.0 httpcore-0.18.0 httpx-0.25.0 huggingface-hub-0.17.2 orjson-3.9.7 pydub-0.25.1 python-multipart-0.0.6 safetensors-0.3.3 semantic-version-2.10.0 starlette-0.27.0 timm-0.9.7 tokenizers-0.13.3 transformers-4.33.2 uvicorn-0.23.2 websockets-11.0.3\n"
          ]
        }
      ],
      "source": [
        "! pip install gradio transformers[timm]"
      ]
    },
    {
      "cell_type": "code",
      "source": [
        "import torch\n",
        "from transformers import pipeline\n",
        "from PIL import Image\n",
        "import matplotlib.pyplot as plt\n",
        "import io\n",
        "detector50 = pipeline(model=\"TuningAI/DETR-BASE_Marine\")\n",
        "import gradio as gr"
      ],
      "metadata": {
        "id": "OLqd7FgO09vV"
      },
      "execution_count": null,
      "outputs": []
    },
    {
      "cell_type": "code",
      "source": [
        "fdic = {\n",
        "    \"style\" : \"italic\",\n",
        "    \"size\" : 10,\n",
        "    \"color\" : \"red\",\n",
        "    \"weight\" : \"bold\"\n",
        "}\n",
        "labels_ = { \"LABEL_0\":\"None\" , \"LABEL_1\": \"Boat\" ,\"LABEL_2\": \"Car\" ,\"LABEL_3\" :  \"Dock\" , \"LABEL_4\" : \"Jetski\" ,\"LABEL_5\" : \"Lift\"}\n",
        "def get_figure(in_pil_img, in_results):\n",
        "    plt.figure(figsize=(16, 10))\n",
        "    plt.imshow(in_pil_img)\n",
        "    ax = plt.gca()\n",
        "\n",
        "    for prediction in in_results:\n",
        "        selected_color =\"#008000\"\n",
        "\n",
        "        x, y = prediction['box']['xmin'], prediction['box']['ymin'],\n",
        "        w, h = prediction['box']['xmax'] - prediction['box']['xmin'], prediction['box']['ymax'] - prediction['box']['ymin']\n",
        "        ax.add_patch(plt.Rectangle((x, y), w, h, fill=False, color=selected_color, linewidth=3))\n",
        "        ax.text(x, y, f\"{labels_[prediction['label']]}: {round(prediction['score']*100, 1)}%\", fontdict=fdic)\n",
        "\n",
        "    plt.axis(\"off\")\n",
        "\n",
        "    return plt.gcf()\n",
        "\n",
        "\n",
        "def infer(in_pil_img):\n",
        "    results = detector50(in_pil_img)\n",
        "\n",
        "    figure = get_figure(in_pil_img, results)\n",
        "\n",
        "    buf = io.BytesIO()\n",
        "    figure.savefig(buf, bbox_inches='tight')\n",
        "    buf.seek(0)\n",
        "    output_pil_img = Image.open(buf)\n",
        "\n",
        "    return output_pil_img\n",
        "\n",
        "\n",
        "with gr.Blocks(title=\"DETR Object Detection\") as demo:\n",
        "    with gr.Row():\n",
        "        input_image = gr.Image(label=\"Input image\", type=\"pil\")\n",
        "        output_image = gr.Image(label=\"Output image with predicted instances\", type=\"pil\")\n",
        "    send_btn = gr.Button(\"start\")\n",
        "    send_btn.click(fn=infer, inputs=input_image, outputs=[output_image])\n",
        "demo.launch(debug=True , share=True)"
      ],
      "metadata": {
        "id": "xw4qodI50bs-"
      },
      "execution_count": null,
      "outputs": []
    }
  ]
}